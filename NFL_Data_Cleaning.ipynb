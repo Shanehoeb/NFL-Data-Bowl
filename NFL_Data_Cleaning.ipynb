{
  "nbformat": 4,
  "nbformat_minor": 2,
  "metadata": {
    "colab": {
      "name": "NFL_Data_Cleaning.ipynb",
      "provenance": [],
      "collapsed_sections": [
        "k0xs_F0f0Nl0",
        "k4kywKyd0QN_",
        "OWqKG1eG2l0B"
      ]
    },
    "kernelspec": {
      "name": "python3",
      "display_name": "Python 3"
    },
    "language_info": {
      "name": "python"
    }
  },
  "cells": [
    {
      "cell_type": "markdown",
      "source": [
        "# NFL Data: Cleaning\r\n",
        "### Cleaning the Big Data Bowl 2022 datasets and filtering to only include Punt Returns \r\n",
        "\r\n",
        "# Cleaning Players"
      ],
      "metadata": {
        "id": "lrVW8SFt-clU"
      }
    },
    {
      "cell_type": "code",
      "execution_count": 5,
      "source": [
        "import pandas as pd\r\n",
        "import numpy as np\r\n",
        "import matplotlib.pyplot as mpl\r\n",
        "import seaborn as sns"
      ],
      "outputs": [],
      "metadata": {
        "id": "T9GESfqB1Zdr"
      }
    },
    {
      "cell_type": "code",
      "execution_count": 9,
      "source": [
        "from google.colab import drive\r\n",
        "\"\"\"Global Variables / Paths\"\"\"\r\n",
        "\r\n",
        "input_folderpath = \"data\"\r\n",
        "output_folderpath = \"data\"\r\n",
        "drive_folderpath = \"Colab Notebooks\"\r\n",
        "useDrive = True\r\n",
        "\r\n",
        "\r\n",
        "drivepath = 'drive\\\\MyDrive\\\\'+drive_folderpath+\"\\\\\"\r\n",
        "inputpath = drivepath+input_folderpath+\"\\\\\" if useDrive else input_folderpath+\"\\\\\"\r\n",
        "outputpath = drivepath+output_folderpath+\"\\\\\" if useDrive else output_folderpath+\"\\\\\"\r\n",
        "drive.mount('/content/drive')"
      ],
      "outputs": [
        {
          "output_type": "stream",
          "name": "stdout",
          "text": [
            "Drive already mounted at /content/drive; to attempt to forcibly remount, call drive.mount(\"/content/drive\", force_remount=True).\n"
          ]
        }
      ],
      "metadata": {
        "id": "PTQmcNrQxzMv",
        "colab": {
          "base_uri": "https://localhost:8080/"
        },
        "outputId": "e4080785-9a87-4f13-ad99-24ed86885f0e"
      }
    },
    {
      "cell_type": "code",
      "execution_count": 11,
      "source": [
        "players = pd.read_csv(inputpath+\"players.csv\")\r\n",
        "players.columns = players.columns.str.replace(' ', '')\r\n",
        "players"
      ],
      "outputs": [],
      "metadata": {
        "id": "DwKSLve11kwa"
      }
    },
    {
      "cell_type": "markdown",
      "source": [
        "Converting all heights to inches"
      ],
      "metadata": {
        "id": "1FqMk6B14_hs"
      }
    },
    {
      "cell_type": "code",
      "execution_count": null,
      "source": [
        "check = players['height'].str.split('-', expand=True)\r\n",
        "check.columns = ['feet', 'inches']\r\n",
        "check.loc[(check['inches'].notnull()), 'feet'] = check[check['inches'].notnull()]['feet'].astype(np.int16) * 12 + check[check['inches'].notnull()]['inches'].astype(np.int16)\r\n",
        "players['height'] = check['feet']\r\n",
        "players['height'] = players['height'].astype(np.float32)\r\n",
        "players"
      ],
      "outputs": [],
      "metadata": {
        "id": "Uu9CKKGB2A35"
      }
    },
    {
      "cell_type": "markdown",
      "source": [
        "Making all dates the same format"
      ],
      "metadata": {
        "id": "qrgz1URpLW0f"
      }
    },
    {
      "cell_type": "code",
      "execution_count": null,
      "source": [
        "for idx, row in players.iterrows():\r\n",
        "  if \"/\" in row['birthDate']: \r\n",
        "        split = row[\"birthDate\"].split(\"/\")\r\n",
        "        players.loc[idx,\"birthDate\"] = split[2].replace(\" \",\"\")+\"-\"+split[0]+\"-\"+split[1]\r\n",
        "players"
      ],
      "outputs": [],
      "metadata": {
        "id": "l-NDVnuuHHjC"
      }
    },
    {
      "cell_type": "code",
      "execution_count": null,
      "source": [
        "players.to_csv(outputpath+\"cleaned_players.csv\", index=False)\r\n",
        "cleaned_players = pd.read_csv(outputpath+\"cleaned_players.csv\")\r\n",
        "cleaned_players"
      ],
      "outputs": [],
      "metadata": {
        "id": "ZajNGrLcIu0A"
      }
    },
    {
      "cell_type": "markdown",
      "source": [
        "# Plays"
      ],
      "metadata": {
        "id": "PHVVzyBN0JPN"
      }
    },
    {
      "cell_type": "code",
      "execution_count": null,
      "source": [
        "plays = pd.read_csv(\"plays.csv\")\r\n",
        "plays.head()"
      ],
      "outputs": [],
      "metadata": {
        "id": "5oo17x-eUm0I"
      }
    },
    {
      "cell_type": "markdown",
      "source": [
        "There are four special plays detailed. They should be given their own csvs."
      ],
      "metadata": {
        "id": "ESVYioYb-haU"
      }
    },
    {
      "cell_type": "code",
      "execution_count": null,
      "source": [
        "plays['specialTeamsPlayType'].unique()"
      ],
      "outputs": [],
      "metadata": {
        "id": "zgOLYRIeY5dO"
      }
    },
    {
      "cell_type": "code",
      "execution_count": null,
      "source": [
        "plays[plays['specialTeamsPlayType'] == \"Kickoff\"][\"specialTeamsResult\"].unique()"
      ],
      "outputs": [],
      "metadata": {
        "id": "Fw74c1LkZb1V"
      }
    },
    {
      "cell_type": "markdown",
      "source": [
        "- Touchback - Kickoff resulted in ball becoming dead in defending team's endzone, so defending team gain possesion at 25 or 20 yard line. Either has to land there and stop, or a player catches and kneels to end play.\n",
        "- Return - Kickoff resulted in ball being received by defending team and them running the ball up the field. (Is caught or becomes dead not in end zone?)\n",
        "- Muffed - Receiving team don't gain possession of the ball properly, and can only start at where the ball was downed?\n",
        "- Kickoff Team Recovery - kickoff team gain possesion of the ball after it crosses the receiving team's restraining line (35 yards) or a member of the receiving team possess the ball first.\n",
        "- Out of Bounds - out of bounds\n",
        "- Fair Catch - Receiver signals that they want a fair catch, meaning they can catch the ball without interference. Then the ball becomes dead at that spot and the receiving team cannot advance it.\n",
        "- Downed - Ball brought to the ground??"
      ],
      "metadata": {
        "id": "8Bgz9hUtjPND"
      }
    },
    {
      "cell_type": "code",
      "execution_count": null,
      "source": [
        "plays[plays['specialTeamsPlayType'] == \"Punt\"][\"specialTeamsResult\"].unique()"
      ],
      "outputs": [],
      "metadata": {
        "id": "OH_NIQ-panWb"
      }
    },
    {
      "cell_type": "markdown",
      "source": [
        "- Non-Special Teams Result - Punt is passed instead."
      ],
      "metadata": {
        "id": "jEYON5yz2pvR"
      }
    },
    {
      "cell_type": "code",
      "execution_count": null,
      "source": [
        "plays[plays['specialTeamsPlayType'] == \"Field Goal\"][\"specialTeamsResult\"].unique()"
      ],
      "outputs": [],
      "metadata": {
        "id": "5LQwnom0aqNq"
      }
    },
    {
      "cell_type": "markdown",
      "source": [
        "- Kick Attempt Good - goal scored\n",
        "- Kick Attempt No Good - goal missed\n",
        "- Blocked Kick Attempt - kick blocked by an opponent\n",
        "- Non-Special Teams Result - kick set up but passed instead?"
      ],
      "metadata": {
        "id": "uRAhmLEi4e2V"
      }
    },
    {
      "cell_type": "code",
      "execution_count": null,
      "source": [
        "plays[plays['specialTeamsPlayType'] == \"Extra Point\"][\"specialTeamsResult\"].unique()"
      ],
      "outputs": [],
      "metadata": {
        "id": "XvHZRkggauc7"
      }
    },
    {
      "cell_type": "markdown",
      "source": [
        "- Non-Special Teams Result - Can choose to attempt another touchdown after first touchdown instead of conversion kick, so no one attempts the kick, kickerId is null. Mostly fails however."
      ],
      "metadata": {
        "id": "l6L5w2Jq6v_h"
      }
    },
    {
      "cell_type": "markdown",
      "source": [
        "## Kickoff"
      ],
      "metadata": {
        "id": "k0xs_F0f0Nl0"
      }
    },
    {
      "cell_type": "code",
      "execution_count": null,
      "source": [
        "kickoff = plays[plays['specialTeamsPlayType'] == \"Kickoff\"]\r\n",
        "kickoff.columns"
      ],
      "outputs": [],
      "metadata": {
        "id": "SdjwSFXleGMF"
      }
    },
    {
      "cell_type": "markdown",
      "source": [
        "The percentage of NA values in each column:"
      ],
      "metadata": {
        "id": "i7AhkClFfrgk"
      }
    },
    {
      "cell_type": "code",
      "execution_count": null,
      "source": [
        "for column in kickoff.columns:\r\n",
        "  print(column,(kickoff[column].isnull().sum()/len(kickoff[column])*100))"
      ],
      "outputs": [],
      "metadata": {
        "id": "tUGtYt8BednF"
      }
    },
    {
      "cell_type": "markdown",
      "source": [
        "- Penalties have high percentages because they are rare, but still valid data\n",
        "- Kickoffs have no kick blocker so kickBlockerId is irrelevant here\n",
        "- passResult: Scrimmage outcome of the play if specialTeamsPlayResult is \"Non-Special Teams Result\", so irrelevant here\n",
        "- looks like yardlineNumber should all be 35 because that's where a kickoff occurs, but some maybe different because of pentalies?"
      ],
      "metadata": {
        "id": "O9M_HwW-fvPx"
      }
    },
    {
      "cell_type": "code",
      "execution_count": null,
      "source": [
        "kickoff = kickoff.drop(columns=[\"kickBlockerId\",\"passResult\",\"specialTeamsPlayType\"])"
      ],
      "outputs": [],
      "metadata": {
        "id": "GN_V1Wp6gTtJ"
      }
    },
    {
      "cell_type": "code",
      "execution_count": null,
      "source": [
        "kickoff.to_csv(outputpath+\"kickoff.csv\",index=False)"
      ],
      "outputs": [],
      "metadata": {
        "id": "N0rRr6H9haqO"
      }
    },
    {
      "cell_type": "markdown",
      "source": [
        "specialTeamsPlayType is removed because the csv only has data about one special type, so would be a column with all the same values"
      ],
      "metadata": {
        "id": "klFeqkjL-Pzl"
      }
    },
    {
      "cell_type": "markdown",
      "source": [
        "## Punt"
      ],
      "metadata": {
        "id": "k4kywKyd0QN_"
      }
    },
    {
      "cell_type": "code",
      "execution_count": null,
      "source": [
        "punt = plays[plays['specialTeamsPlayType'] == \"Punt\"]\r\n",
        "punt"
      ],
      "outputs": [],
      "metadata": {
        "id": "X27XD9Pr0RUL"
      }
    },
    {
      "cell_type": "code",
      "execution_count": null,
      "source": [
        "for column in punt.columns:\r\n",
        "  print(column,(punt[column].isnull().sum()/len(punt[column])*100))"
      ],
      "outputs": [],
      "metadata": {
        "id": "IexJ-F7R0ZKc"
      }
    },
    {
      "cell_type": "markdown",
      "source": [
        "- Some kickerIds are null because the punt is not kicked (??), it is passed instead. Indicated by having the specialTeamsResult set to Non-Special Teams Result, and then the passResult shows the result of the pass.\n",
        "- kickBlockerId is mostly null because it is rare to block a punt. When not null, specialTeamsResult has Blocked Punt\n"
      ],
      "metadata": {
        "id": "uWV5EXV-1Bni"
      }
    },
    {
      "cell_type": "code",
      "execution_count": null,
      "source": [
        "punt = punt.drop(columns=[\"specialTeamsPlayType\"])"
      ],
      "outputs": [],
      "metadata": {
        "id": "LmxLJjUB2OnZ"
      }
    },
    {
      "cell_type": "code",
      "execution_count": null,
      "source": [
        "punt.to_csv(outputpath+\"punt.csv\",index=False)"
      ],
      "outputs": [],
      "metadata": {
        "id": "l3JulZfL2TGo"
      }
    },
    {
      "cell_type": "markdown",
      "source": [
        "## Field Goal"
      ],
      "metadata": {
        "id": "OWqKG1eG2l0B"
      }
    },
    {
      "cell_type": "code",
      "execution_count": null,
      "source": [
        "fieldGoal = plays[plays['specialTeamsPlayType'] == \"Field Goal\"]\r\n",
        "fieldGoal"
      ],
      "outputs": [],
      "metadata": {
        "id": "9epbfRYV2zGm"
      }
    },
    {
      "cell_type": "code",
      "execution_count": null,
      "source": [
        "for column in fieldGoal.columns:\r\n",
        "  print(column,(fieldGoal[column].isnull().sum()/len(fieldGoal[column])*100))"
      ],
      "outputs": [],
      "metadata": {
        "id": "3i9qFwJ929gg"
      }
    },
    {
      "cell_type": "markdown",
      "source": [
        "- kickReturnYardage is all null because the receiving cannot (??) advance the ball after a field goal ??\n",
        "- playResult is mostly 0 because most attempts score goals, so kicking team essentially gains no yards because play is reset. Will be negative if goal is missed so receiving team get the ball at their 8 yard mark (??). For blocked kicks, it's anyone's ball after so kicking team may or may not gain yards afterwards.\n",
        "- returnerId is mostly null because it's rare to return after a field goal??"
      ],
      "metadata": {
        "id": "CeUkf6125LKb"
      }
    },
    {
      "cell_type": "code",
      "execution_count": null,
      "source": [
        "fieldGoal = fieldGoal.drop(columns=[\"specialTeamsPlayType\",\"kickReturnYardage\"])"
      ],
      "outputs": [],
      "metadata": {
        "id": "xM8GG-Ua6F9J"
      }
    },
    {
      "cell_type": "code",
      "execution_count": null,
      "source": [
        "fieldGoal.to_csv(outputpath+\"fieldGoal.csv\",index=False)"
      ],
      "outputs": [],
      "metadata": {
        "id": "gFHrNSa66LkZ"
      }
    },
    {
      "cell_type": "markdown",
      "source": [
        "# Extra Point"
      ],
      "metadata": {
        "id": "kYqm18hr6Ooz"
      }
    },
    {
      "cell_type": "code",
      "execution_count": null,
      "source": [
        "extraPoint = plays[plays['specialTeamsPlayType'] == \"Extra Point\"]\r\n",
        "extraPoint"
      ],
      "outputs": [],
      "metadata": {
        "id": "35hMcHlN6VcK"
      }
    },
    {
      "cell_type": "code",
      "execution_count": null,
      "source": [
        "for column in extraPoint.columns:\r\n",
        "  print(column,(extraPoint[column].isnull().sum()/len(extraPoint[column])*100))"
      ],
      "outputs": [],
      "metadata": {
        "id": "PgSq0F4f7tLe"
      }
    },
    {
      "cell_type": "markdown",
      "source": [
        "- returnerId all null because no one returns\n",
        "- kickLength all null because kicks happen at same place\n",
        "- kickReturnYardage all null because you can't advance after an extra point attempt"
      ],
      "metadata": {
        "id": "yaOC_VRf82BW"
      }
    },
    {
      "cell_type": "code",
      "execution_count": null,
      "source": [
        "extraPoint = extraPoint.drop(columns=[\"specialTeamsPlayType\",\"kickReturnYardage\",\"returnerId\",\"kickLength\"])\r\n",
        "extraPoint.to_csv(outputpath+\"extraPoint.csv\",index=False)"
      ],
      "outputs": [],
      "metadata": {
        "id": "n2J4HmHg9scD"
      }
    }
  ]
}