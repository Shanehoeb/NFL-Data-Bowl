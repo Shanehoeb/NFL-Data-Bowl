{
  "nbformat": 4,
  "nbformat_minor": 2,
  "metadata": {
    "colab": {
      "name": "NFL_Data_Cleaning.ipynb",
      "provenance": [],
      "collapsed_sections": [
        "k0xs_F0f0Nl0",
        "k4kywKyd0QN_",
        "OWqKG1eG2l0B"
      ]
    },
    "kernelspec": {
      "name": "python3",
      "display_name": "Python 3"
    },
    "language_info": {
      "name": "python"
    }
  },
  "cells": [
    {
      "cell_type": "markdown",
      "source": [
        "# NFL Data: Results\r\n",
        "### Comparing heuristics for A* search, Pitch Control and Yardage/Path Deviation\r\n",
        "\r\n",
        "# Yardage vs Path Deviation (Frechet Distance)\r\n",
        "\r\n",
        "The yards the Punt Returner gains from making a play is one way we use to quantify a good play. The following are a few graphs and figures on "
      ],
      "metadata": {
        "id": "lrVW8SFt-clU"
      }
    },
    {
      "cell_type": "code",
      "execution_count": 5,
      "source": [
        "import pandas as pd\r\n",
        "import numpy as np\r\n",
        "import matplotlib.pyplot as mpl\r\n",
        "import seaborn as sns"
      ],
      "outputs": [],
      "metadata": {
        "id": "T9GESfqB1Zdr"
      }
    },
    {
      "cell_type": "code",
      "execution_count": 9,
      "source": [
        "from google.colab import drive\r\n",
        "\"\"\"Global Variables / Paths\"\"\"\r\n",
        "\r\n",
        "input_folderpath = \"data\"\r\n",
        "output_folderpath = \"data\"\r\n",
        "drive_folderpath = \"Colab Notebooks\"\r\n",
        "useDrive = True\r\n",
        "\r\n",
        "\r\n",
        "drivepath = 'drive\\\\MyDrive\\\\'+drive_folderpath+\"\\\\\"\r\n",
        "inputpath = drivepath+input_folderpath+\"\\\\\" if useDrive else input_folderpath+\"\\\\\"\r\n",
        "outputpath = drivepath+output_folderpath+\"\\\\\" if useDrive else output_folderpath+\"\\\\\"\r\n",
        "drive.mount('/content/drive')"
      ],
      "outputs": [
        {
          "output_type": "stream",
          "name": "stdout",
          "text": [
            "Drive already mounted at /content/drive; to attempt to forcibly remount, call drive.mount(\"/content/drive\", force_remount=True).\n"
          ]
        }
      ],
      "metadata": {
        "id": "PTQmcNrQxzMv",
        "colab": {
          "base_uri": "https://localhost:8080/"
        },
        "outputId": "e4080785-9a87-4f13-ad99-24ed86885f0e"
      }
    },
    {
      "cell_type": "code",
      "execution_count": 11,
      "source": [
        "players = pd.read_csv(inputpath+\"players.csv\")\r\n",
        "players.columns = players.columns.str.replace(' ', '')\r\n",
        "players"
      ],
      "outputs": [],
      "metadata": {
        "id": "DwKSLve11kwa"
      }
    }
  ]
}